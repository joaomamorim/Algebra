{
 "cells": [
  {
   "cell_type": "markdown",
   "metadata": {},
   "source": [
    "## Joao Marcos Amorim dos Santos"
   ]
  },
  {
   "cell_type": "code",
   "execution_count": 154,
   "metadata": {
    "collapsed": false
   },
   "outputs": [],
   "source": [
    "import numpy as np\n",
    "import math\n",
    "import time\n",
    "import matplotlib.pyplot as plt\n",
    "import seaborn as sns\n",
    "import matplotlib\n",
    "%matplotlib inline  \n",
    "#matplotlib.rcParams['figure.figsize'] = (15,10)"
   ]
  },
  {
   "cell_type": "markdown",
   "metadata": {},
   "source": [
    "Exercício 1 - Álgebra\n"
   ]
  },
  {
   "cell_type": "code",
   "execution_count": 16,
   "metadata": {
    "collapsed": false
   },
   "outputs": [
    {
     "name": "stdout",
     "output_type": "stream",
     "text": [
      "[0 1]\n",
      "[1 0]\n",
      "[ 2 -1]\n",
      "[3 2]\n"
     ]
    }
   ],
   "source": [
    "#vetores de pontos\n",
    "p1=np.array([0,1]);print(p1)\n",
    "p2=np.array([1,0]);print(p2)\n",
    "p3=np.array([2,-1]);print(p3)\n",
    "p4=np.array([3,2]);print(p4)"
   ]
  },
  {
   "cell_type": "code",
   "execution_count": 17,
   "metadata": {
    "collapsed": false
   },
   "outputs": [
    {
     "name": "stdout",
     "output_type": "stream",
     "text": [
      "[[ 1  0  0  0]\n",
      " [ 1  1  1  1]\n",
      " [ 1  2  4  8]\n",
      " [ 1  3  9 27]]\n"
     ]
    }
   ],
   "source": [
    "#Ax=b\n",
    "M = np.matrix([[1,0,0,0],[1,1,1,1],[1,2,4,8],[1,3,9,27]])#Matriz A\n",
    "S = np.array([1,0,-1,2]) #Matriz b\n",
    "print(M)"
   ]
  },
  {
   "cell_type": "code",
   "execution_count": 18,
   "metadata": {
    "collapsed": false
   },
   "outputs": [
    {
     "name": "stdout",
     "output_type": "stream",
     "text": [
      "[ 1.          0.33333333 -2.          0.66666667]\n"
     ]
    }
   ],
   "source": [
    "A=np.linalg.solve(M,S);print(A)#matriz x"
   ]
  },
  {
   "cell_type": "code",
   "execution_count": 19,
   "metadata": {
    "collapsed": false
   },
   "outputs": [
    {
     "data": {
      "image/png": "[encoded data removed]",
      "text/plain": [
       "<matplotlib.figure.Figure at 0x7fd8466f37f0>"
      ]
     },
     "metadata": {},
     "output_type": "display_data"
    }
   ],
   "source": [
    "import matplotlib.pyplot as plt\n",
    "plt.plot([p1[0],p2[0],p3[0],p4[0]],[p1[1],p2[1],p3[1],p4[1]],'bd')\n",
    "plt.axis([-5,5,-5,5])\n",
    "plt.ylabel('S')\n",
    "t = np.arange(-2., 5., 0.2)\n",
    "#polinômio = 1+0.333x-2x^2+0.6667x^3\n",
    "# red dashes, blue squares and green triangles\n",
    "plt.plot(t, A[0]+A[1]*t+A[2]*t**2+A[3]*t**3, 'r',)\n",
    "plt.xlabel('X')\n",
    "plt.ylabel('Y')\n",
    "plt.title('Gráfico da função de polinômios grau 3')\n",
    "plt.show()"
   ]
  },
  {
   "cell_type": "markdown",
   "metadata": {},
   "source": [
    "## Exercício 6\n"
   ]
  },
  {
   "cell_type": "code",
   "execution_count": 119,
   "metadata": {
    "collapsed": false
   },
   "outputs": [
    {
     "name": "stdout",
     "output_type": "stream",
     "text": [
      "[[1 0 0 0 0 0 0 0 0]\n",
      " [1 2 0 0 0 0 0 0 0]\n",
      " [1 2 3 0 0 0 0 0 0]\n",
      " [1 2 3 4 0 0 0 0 0]\n",
      " [1 2 3 4 5 0 0 0 0]\n",
      " [1 2 3 4 5 6 0 0 0]\n",
      " [1 2 3 4 5 6 7 0 0]\n",
      " [1 2 3 4 5 6 7 8 0]\n",
      " [1 2 3 4 5 6 7 8 9]]\n",
      "[[1]\n",
      " [2]\n",
      " [3]\n",
      " [4]\n",
      " [5]\n",
      " [6]\n",
      " [7]\n",
      " [8]\n",
      " [9]]\n"
     ]
    }
   ],
   "source": [
    "#matriz triângular inferiro \n",
    "\n",
    "M=np.tril(range(1,10))\n",
    "print(M)\n",
    "tm=M.shape[0]#número de linhas da matriz\n",
    "#----------------------------------------------\n",
    "b = np.arange(1,tm+1).reshape((tm,1))\n",
    "#b=np.matrix([range(1,t+1)])\n",
    "print(b)\n",
    "tb=b.shape[0]"
   ]
  },
  {
   "cell_type": "code",
   "execution_count": 120,
   "metadata": {
    "collapsed": false
   },
   "outputs": [],
   "source": [
    "def resolveMatriz(a,b):\n",
    "    a=np.matrix(a)\n",
    "    b=np.matrix(b)\n",
    "    if np.alltrue(np.tril(b)==b) and a.shape[0]==b.shape[0]:\n",
    "        #resolvendo o sistema\n",
    "        x=np.linalg.solve(a,b)\n",
    "        print(x)\n",
    "    else:\n",
    "        print('Matriz com problema')"
   ]
  },
  {
   "cell_type": "markdown",
   "metadata": {},
   "source": [
    "#### Explicação da complexidade no caderno"
   ]
  },
  {
   "cell_type": "code",
   "execution_count": 118,
   "metadata": {
    "collapsed": false
   },
   "outputs": [
    {
     "name": "stdout",
     "output_type": "stream",
     "text": [
      "[[ 1.        ]\n",
      " [ 0.5       ]\n",
      " [ 0.33333333]\n",
      " [ 0.25      ]\n",
      " [ 0.2       ]\n",
      " [ 0.16666667]\n",
      " [ 0.14285714]\n",
      " [ 0.125     ]\n",
      " [ 0.11111111]]\n"
     ]
    }
   ],
   "source": [
    "resolveMatriz(M,b)"
   ]
  },
  {
   "cell_type": "markdown",
   "metadata": {},
   "source": [
    "## Exercício 7"
   ]
  },
  {
   "cell_type": "code",
   "execution_count": 148,
   "metadata": {
    "collapsed": false
   },
   "outputs": [
    {
     "name": "stdout",
     "output_type": "stream",
     "text": [
      "Concluído! n = 2000\r"
     ]
    }
   ],
   "source": [
    "#medir os tempos usar antes e depois da função time.time()\n",
    "average_times=[]\n",
    "for n in range(10,2001,10):\n",
    "    times=[]#lista vazia\n",
    "    \n",
    "    A = np.random.randint(1,15,(n,n))#matriz nxn de número aleatórios de 1 a 14\n",
    "    b = np.random.randint(1,15,(n,1))#matriz nx1 de número aleatórios de 1 a 14\n",
    "    #Ax=b Vamos achar os valores da matriz x\n",
    "    print('Calculando n = '+ str(n), end=\"\\r\")\n",
    "    \n",
    "    for i in range(1,30):\n",
    "        it=time.time() # initial times\n",
    "        \n",
    "        np.linalg.solve(A,b) #solve\n",
    "        \n",
    "        ft=time.time() #Final time\n",
    "        \n",
    "        times.append(ft-it) #time \n",
    "        \n",
    "    average_times.append(sum(times)/len(times))# average of times\n",
    "        \n",
    "    print('Concluído!', end=\"\\r\")"
   ]
  },
  {
   "cell_type": "code",
   "execution_count": 151,
   "metadata": {
    "collapsed": false
   },
   "outputs": [
    {
     "data": {
      "text/plain": [
       "<function matplotlib.pyplot.show>"
      ]
     },
     "execution_count": 151,
     "metadata": {},
     "output_type": "execute_result"
    },
    {
     "data": {
      "image/png": "[encoded data removed]",
      "text/plain": [
       "<matplotlib.figure.Figure at 0x7fd84683ce80>"
      ]
     },
     "metadata": {},
     "output_type": "display_data"
    }
   ],
   "source": [
    "t = np.arange(10, 2001, 10)\n",
    "plt.axis([10,2000,0,0.25])\n",
    "plt.plot(t,average_times)\n",
    "plt.xlabel('lenght of matrix')\n",
    "plt.ylabel('time to solve')\n",
    "plt.show"
   ]
  },
  {
   "cell_type": "code",
   "execution_count": 152,
   "metadata": {
    "collapsed": false
   },
   "outputs": [
    {
     "data": {
      "text/plain": [
       "200"
      ]
     },
     "execution_count": 152,
     "metadata": {},
     "output_type": "execute_result"
    }
   ],
   "source": [
    "len(average_times)"
   ]
  },
  {
   "cell_type": "code",
   "execution_count": 158,
   "metadata": {
    "collapsed": false
   },
   "outputs": [
    {
     "ename": "TypeError",
     "evalue": "must be real number, not tuple",
     "output_type": "error",
     "traceback": [
      "\u001b[0;31m---------------------------------------------------------------------------\u001b[0m",
      "\u001b[0;31mTypeError\u001b[0m                                 Traceback (most recent call last)",
      "\u001b[0;32m<ipython-input-158-eabccf42d989>\u001b[0m in \u001b[0;36m<module>\u001b[0;34m()\u001b[0m\n\u001b[0;32m----> 1\u001b[0;31m \u001b[0mav_times_log\u001b[0m\u001b[0;34m=\u001b[0m\u001b[0;34m[\u001b[0m\u001b[0mmath\u001b[0m\u001b[0;34m.\u001b[0m\u001b[0mlog\u001b[0m\u001b[0;34m(\u001b[0m\u001b[0mtuple\u001b[0m\u001b[0;34m(\u001b[0m\u001b[0maverage_times\u001b[0m\u001b[0;34m)\u001b[0m\u001b[0;34m)\u001b[0m\u001b[0;34m]\u001b[0m\u001b[0;34m\u001b[0m\u001b[0m\n\u001b[0m",
      "\u001b[0;31mTypeError\u001b[0m: must be real number, not tuple"
     ]
    }
   ],
   "source": [
    "for i in 1:"
   ]
  },
  {
   "cell_type": "code",
   "execution_count": null,
   "metadata": {
    "collapsed": true
   },
   "outputs": [],
   "source": []
  }
 ],
 "metadata": {
  "anaconda-cloud": {},
  "kernelspec": {
   "display_name": "Python 3",
   "language": "python",
   "name": "python3"
  },
  "language_info": {
   "codemirror_mode": {
    "name": "ipython",
    "version": 3
   },
   "file_extension": ".py",
   "mimetype": "text/x-python",
   "name": "python",
   "nbconvert_exporter": "python",
   "pygments_lexer": "ipython3",
   "version": "3.6.0"
  }
 },
 "nbformat": 4,
 "nbformat_minor": 1
}
